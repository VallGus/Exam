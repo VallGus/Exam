{
 "cells": [
  {
   "attachments": {},
   "cell_type": "markdown",
   "metadata": {},
   "source": [
    "# Data Science Tools and Ecosystem"
   ]
  },
  {
   "attachments": {},
   "cell_type": "markdown",
   "metadata": {},
   "source": [
    "In this notebook, Data Science Tools and Ecosystem are summarized."
   ]
  },
  {
   "attachments": {},
   "cell_type": "markdown",
   "metadata": {},
   "source": [
    "### Some of the popular languages that Data Scientists use are:\n",
    "\n",
    "1. Python\n",
    "2. R\n",
    "3. SQL\n",
    "4. Scala\n",
    "5. Java\n",
    "6. C++\n",
    "7. Julia\n",
    "8. Javascript\n",
    "9. Ruby\n",
    "10. PHP\n",
    "11. Go\n",
    "12. Visual Basic"
   ]
  },
  {
   "attachments": {},
   "cell_type": "markdown",
   "metadata": {},
   "source": [
    "### Datascience Libraries\n",
    "This is a list of datascience libraries:\n",
    "1. Python\n",
    "    1. Scientific Computing\n",
    "        - Pandas \n",
    "        - NumPy\n",
    "    2. Visualization\n",
    "        - Matplotlib\n",
    "        - Seaborn\n",
    "    3. Machine Learning and Deep Learning \n",
    "        - Scikit-learn\n",
    "        - Keras\n",
    "        - TensorFlow\n",
    "        - PyTorch\n",
    "2. Scala\n",
    "    1. Vegas\n",
    "    2. Build DL\n",
    "3. R\n",
    "    1. ggplot2\n",
    "    2. Keras\n",
    "    3. TensorFlow\n"
   ]
  },
  {
   "attachments": {},
   "cell_type": "markdown",
   "metadata": {},
   "source": [
    "The main data science tools are:\n",
    "| data management tools |Data Integration Tools|Visualization Tools|\n",
    "| :- | :-| :-|\n",
    "| MySQL| Apache AirFlow|Hue|\n",
    "|PostgresSQL|KubeFlow|Kibana|\n",
    "|MongoDB|Apache Kafka|Apache Superset|\n",
    "|Apache|Apache Nifi|other libraries|\n",
    "|CouchDB|Apache SparkSQL|\n",
    "|Apache Cassandra|NodeRED|\n",
    "|Hadoop FS|\n",
    "|Ceph|\n",
    "|Elastic Search|"
   ]
  },
  {
   "attachments": {},
   "cell_type": "markdown",
   "metadata": {},
   "source": [
    "Below are a few examples of evaluating arithmetic expressions in Python:\n",
    "$$(3*4)+5$$"
   ]
  },
  {
   "cell_type": "code",
   "execution_count": 19,
   "metadata": {},
   "outputs": [
    {
     "name": "stdout",
     "output_type": "stream",
     "text": [
      "The result of operation (3*4)+5 is 17\n",
      "\n",
      "Multiply:\n",
      "1200000\n",
      "\n",
      "Add:\n",
      "130\n"
     ]
    }
   ],
   "source": [
    "# This a simple arithmetic expression to mutiply then add integers\n",
    "print(f'The result of operation (3*4)+5 is {(3*4)+5}\\n')\n",
    "\n",
    "# I did this before to read the instructions, I will keep it as example\n",
    "def multiply(*numbers):\n",
    "    result=1\n",
    "    for number in numbers:\n",
    "        result*=number\n",
    "    return result\n",
    "\n",
    "def addNumbers(*numbers):\n",
    "    result=0\n",
    "    for number in numbers:\n",
    "        result+=number\n",
    "    return result\n",
    "print(\"Multiply:\")\n",
    "print(multiply(1,2,5,1,2,4,5,2,3,5,100))\n",
    "print(\"\\nAdd:\")\n",
    "print(addNumbers(1,2,5,1,2,4,5,2,3,5,100))\n"
   ]
  },
  {
   "cell_type": "code",
   "execution_count": 20,
   "metadata": {},
   "outputs": [
    {
     "name": "stdout",
     "output_type": "stream",
     "text": [
      "Hours: 3\n"
     ]
    }
   ],
   "source": [
    "# This will convert 200 minutes to hours by diving by 60\n",
    "\n",
    "def convertMinutesToHours(minutes):\n",
    "    return minutes//60\n",
    "\n",
    "print(\"Hours: \"+str(convertMinutesToHours(200)))"
   ]
  },
  {
   "attachments": {},
   "cell_type": "markdown",
   "metadata": {},
   "source": [
    "**Objectives:**\n",
    "- List popular languages for Data Science \n",
    "- Create and share a public Jupyter notebook, in any language, in Watson Studio and create markdown cells for peer review.\n",
    "- Evaluate and grade final assignments submitted by fellow learners using the given rubric. Provide constructive feedback and offer ideas and suggestions that fellow learners can apply right away."
   ]
  },
  {
   "attachments": {},
   "cell_type": "markdown",
   "metadata": {},
   "source": [
    "The Author Name is:<br>\n",
    "<font size=\"12\">Gabriele Vallerga</font>"
   ]
  },
  {
   "cell_type": "markdown",
   "metadata": {},
   "source": []
  }
 ],
 "metadata": {
  "kernelspec": {
   "display_name": "base",
   "language": "python",
   "name": "python3"
  },
  "language_info": {
   "codemirror_mode": {
    "name": "ipython",
    "version": 3
   },
   "file_extension": ".py",
   "mimetype": "text/x-python",
   "name": "python",
   "nbconvert_exporter": "python",
   "pygments_lexer": "ipython3",
   "version": "3.9.12"
  },
  "orig_nbformat": 4,
  "vscode": {
   "interpreter": {
    "hash": "0e3677c2c5f14d7a5fff69df2784df685e49f046463020c24decb816ce43fbcc"
   }
  }
 },
 "nbformat": 4,
 "nbformat_minor": 2
}
