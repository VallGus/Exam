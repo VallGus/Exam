{
 "cells": [
  {
   "attachments": {},
   "cell_type": "markdown",
   "metadata": {},
   "source": [
    "## This is a Title for my Amazing Notebook"
   ]
  },
  {
   "attachments": {},
   "cell_type": "markdown",
   "metadata": {},
   "source": [
    "I will use this cell as an introduction for my work. This is the first assignment."
   ]
  },
  {
   "attachments": {},
   "cell_type": "markdown",
   "metadata": {},
   "source": [
    "### Data science languages:\n",
    "This is a Markdown Cell that List all data science languages:\n",
    "- Python\n",
    "- R\n",
    "- SQL\n",
    "- Scala\n",
    "- Java\n",
    "- C++\n",
    "- Julia\n",
    "- Javascript\n",
    "- Ruby\n",
    "- PHP\n",
    "- Go\n",
    "- Visual Basic"
   ]
  },
  {
   "attachments": {},
   "cell_type": "markdown",
   "metadata": {},
   "source": [
    "### Datascience Libraries\n",
    "This is a list of datascience libraries:\n",
    "1. Python\n",
    "    1. Scientific Computing\n",
    "        - Pandas \n",
    "        - NumPy\n",
    "    2. Visualization\n",
    "        - Matplotlib\n",
    "        - Seaborn\n",
    "    3. Machine Learning and Deep Learning \n",
    "        - Scikit-learn\n",
    "        - Keras\n",
    "        - TensorFlow\n",
    "        - PyTorch\n",
    "2. Scala\n",
    "    1. Vegas\n",
    "    2. Build DL\n",
    "3. R\n",
    "    1. ggplot2\n",
    "    2. Keras\n",
    "    3. TensorFlow\n"
   ]
  },
  {
   "attachments": {},
   "cell_type": "markdown",
   "metadata": {},
   "source": [
    "The main data science tools are:\n",
    "| data management tools |Data Integration Tools|Visualization Tools|\n",
    "| :- | :-| :-|\n",
    "| MySQL| Apache AirFlow|Hue|\n",
    "|PostgresSQL|KubeFlow|Kibana|\n",
    "|MongoDB|Apache Kafka|Apache Superset|\n",
    "|Apache|Apache Nifi|other libraries|\n",
    "|CouchDB|Apache SparkSQL|\n",
    "|Apache Cassandra|NodeRED|\n",
    "|Hadoop FS|\n",
    "|Ceph|\n",
    "|Elastic Search|"
   ]
  },
  {
   "cell_type": "markdown",
   "metadata": {},
   "source": []
  },
  {
   "attachments": {},
   "cell_type": "markdown",
   "metadata": {},
   "source": [
    "This is an arithmetic expression:\n",
    "$${3}-{2}={1}$$"
   ]
  },
  {
   "cell_type": "code",
   "execution_count": 8,
   "metadata": {},
   "outputs": [
    {
     "name": "stdout",
     "output_type": "stream",
     "text": [
      "Multiply:\n",
      "1200000\n",
      "\n",
      "Add:\n",
      "130\n"
     ]
    }
   ],
   "source": [
    "def multiply(*numbers):\n",
    "    result=1\n",
    "    for number in numbers:\n",
    "        result*=number\n",
    "    return result\n",
    "\n",
    "def addNumbers(*numbers):\n",
    "    result=0\n",
    "    for number in numbers:\n",
    "        result+=number\n",
    "    return result\n",
    "print(\"Multiply:\")\n",
    "print(multiply(1,2,5,1,2,4,5,2,3,5,100))\n",
    "print(\"\\nAdd:\")\n",
    "print(addNumbers(1,2,5,1,2,4,5,2,3,5,100))\n"
   ]
  },
  {
   "cell_type": "code",
   "execution_count": 15,
   "metadata": {},
   "outputs": [
    {
     "name": "stdout",
     "output_type": "stream",
     "text": [
      "Hours: 60\n"
     ]
    }
   ],
   "source": [
    "def convertMinutesToHours(minutes):\n",
    "    return minutes//60\n",
    "\n",
    "print(\"Hours: \"+str(convertMinutesToHours(3601)))"
   ]
  },
  {
   "attachments": {},
   "cell_type": "markdown",
   "metadata": {},
   "source": [
    "The learning objectives for the week 4 are:\n",
    "- Create and share a public Jupyter notebook, in any language, in Watson Studio and create markdown cells for peer review.\n",
    "- Evaluate and grade final assignments submitted by fellow learners using the given rubric. Provide constructive feedback and offer ideas and suggestions that fellow learners can apply right away."
   ]
  },
  {
   "attachments": {},
   "cell_type": "markdown",
   "metadata": {},
   "source": [
    "The Author Name is:<br>\n",
    "<font size=\"12\">Gabriele Vallerga</font>"
   ]
  },
  {
   "cell_type": "markdown",
   "metadata": {},
   "source": []
  }
 ],
 "metadata": {
  "kernelspec": {
   "display_name": "base",
   "language": "python",
   "name": "python3"
  },
  "language_info": {
   "codemirror_mode": {
    "name": "ipython",
    "version": 3
   },
   "file_extension": ".py",
   "mimetype": "text/x-python",
   "name": "python",
   "nbconvert_exporter": "python",
   "pygments_lexer": "ipython3",
   "version": "3.9.12"
  },
  "orig_nbformat": 4,
  "vscode": {
   "interpreter": {
    "hash": "0e3677c2c5f14d7a5fff69df2784df685e49f046463020c24decb816ce43fbcc"
   }
  }
 },
 "nbformat": 4,
 "nbformat_minor": 2
}
